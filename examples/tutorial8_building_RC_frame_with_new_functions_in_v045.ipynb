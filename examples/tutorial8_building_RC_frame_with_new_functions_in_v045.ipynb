{
 "cells": [
  {
   "cell_type": "markdown",
   "id": "ae06e1dc-cb00-4632-b6a9-63108d962332",
   "metadata": {},
   "source": [
    "## Building an RC frame using functions in opseestools v0.4"
   ]
  },
  {
   "cell_type": "markdown",
   "id": "25614b64-5433-4636-bcbb-e23e9d2e2382",
   "metadata": {},
   "source": [
    "### Library import"
   ]
  },
  {
   "cell_type": "code",
   "execution_count": 1,
   "id": "7864a800-14ac-4364-9831-f231abdf67f7",
   "metadata": {},
   "outputs": [
    {
     "name": "stdout",
     "output_type": "stream",
     "text": [
      "Intel MKL WARNING: Support of Intel(R) Streaming SIMD Extensions 4.2 (Intel(R) SSE4.2) enabled only processors has been deprecated. Intel oneAPI Math Kernel Library 2025.0 will require Intel(R) Advanced Vector Extensions (Intel(R) AVX) instructions.\n",
      "Intel MKL WARNING: Support of Intel(R) Streaming SIMD Extensions 4.2 (Intel(R) SSE4.2) enabled only processors has been deprecated. Intel oneAPI Math Kernel Library 2025.0 will require Intel(R) Advanced Vector Extensions (Intel(R) AVX) instructions.\n"
     ]
    }
   ],
   "source": [
    "from openseespy.opensees import *\n",
    "import matplotlib.pyplot as plt\n",
    "import opseestools.analisis as an\n",
    "import opseestools.utilidades as ut\n",
    "import opsvis as opsv\n",
    "import numpy as np"
   ]
  },
  {
   "cell_type": "markdown",
   "id": "fdef78f6-6dc1-4ff0-8795-d177a9beafe6",
   "metadata": {},
   "source": [
    "### Model creation"
   ]
  },
  {
   "cell_type": "code",
   "execution_count": 2,
   "id": "3c066e65-f38c-40f3-921e-cee04f4e62d5",
   "metadata": {},
   "outputs": [],
   "source": [
    "wipe()\n",
    "model('basic','-ndm',2,'-ndf',3)"
   ]
  },
  {
   "cell_type": "markdown",
   "id": "8593eded-8a85-40f9-9a84-3c9de6ec0fb3",
   "metadata": {},
   "source": [
    "### Defining nodes using creategrid"
   ]
  },
  {
   "cell_type": "markdown",
   "id": "6485aa8e-85ad-4c74-8bf2-bb4857eb5647",
   "metadata": {},
   "source": [
    "#### Creategrid requires X y Y coordinates and creates the nodes"
   ]
  },
  {
   "cell_type": "code",
   "execution_count": 3,
   "id": "762d4b5b-6922-4432-b2f6-0313ca79a265",
   "metadata": {},
   "outputs": [],
   "source": [
    "coordx = [0, 6.0, 10.0]\n",
    "coordy = [0, 4.0, 7.0]\n",
    "ut.creategrid(coordx,coordy)\n",
    "fixY(0,1,1,1) "
   ]
  },
  {
   "cell_type": "markdown",
   "id": "49547bc2-c1ac-45c8-845a-db28aaaf8e7e",
   "metadata": {},
   "source": [
    "### Defining materials"
   ]
  },
  {
   "cell_type": "markdown",
   "id": "fc298ec6-3f66-4f6e-8440-25296b18c76e",
   "metadata": {},
   "source": [
    "#### opseestools allows defining materials considering the Colombian standard NSR-10. The col_materials function accepts two types of materials: the first type is 'DES' which are very similar to what would be expected for special detailing according to ACI 318. The second type is 'DMO' which is a type of detailing used in Colombia in medium-risk zones"
   ]
  },
  {
   "cell_type": "code",
   "execution_count": null,
   "id": "b163e3b5-969d-40a3-89fb-afe76042112e",
   "metadata": {},
   "outputs": [],
   "source": [
    "fc = 28 # en MPa\n",
    "fy = 420 # en MPa\n",
    "tag_noconf, tag_conf, tag_acero = ut.col_materials(fc,fy) # by default tags are: unconfined concrete (102), confined (101), steel (100)"
   ]
  },
  {
   "cell_type": "markdown",
   "id": "4d3c059f-a4cd-44d2-8099-4465a59488bd",
   "metadata": {},
   "source": [
    "### Define beam and column sections"
   ]
  },
  {
   "cell_type": "code",
   "execution_count": 5,
   "id": "6ea903ab-0ee2-448c-9f3f-130c4c63bf8c",
   "metadata": {},
   "outputs": [],
   "source": [
    "Bcol = 0.3 # base de la columna\n",
    "Hcol = 0.3 # altura de la columna\n",
    "Bvig = 0.3 # base de la viga\n",
    "Hvig = 0.4 # altura de la viga\n",
    "c = 0.05  # recubrimiento de las secciones\n",
    "nFibCover, nFibCore, nFibZcore  = 8, 16, 10 # numero de fibras en zona no confinada, en Z (x) en zona confinada y Y (y) zona confinada\n",
    "As4 = 0.000127 # area barra #4\n",
    "As5 = 0.0002 # area barra #5\n",
    "\n",
    "col30x30 = 101 # tag de la columna\n",
    "vig30x40 = 201 # tag de la viga\n",
    "\n",
    "ut.BuildRCSection(col30x30, Hcol, Bcol, c, c, tag_conf, tag_noconf, tag_acero , 4, As5, 4, As5, 4, As5, nFibCore, nFibZcore, nFibCover, nFibCover)\n",
    "ut.BuildRCSection(vig30x40, Hvig, Bvig, c, c, tag_conf, tag_noconf, tag_acero , 3, As4, 4, As4, 2, 1e-10, nFibCore, nFibZcore, nFibCover, nFibCover)\n",
    "\n",
    "# the BuildRCSection is a Python translation of the proc available at: https://opensees.berkeley.edu/wiki/index.php/OpenSees_Example_9._Build_%26_Analyze_a_Section_Example\n",
    "\n",
    "beamIntegration('Lobatto',col30x30,col30x30,5)\n",
    "beamIntegration('Lobatto',vig30x40,vig30x40,5)"
   ]
  },
  {
   "cell_type": "markdown",
   "id": "f7803a06-f571-4b9d-9dc3-c8ee1dd1f46c",
   "metadata": {},
   "source": [
    "### Create beam and column elements"
   ]
  },
  {
   "cell_type": "markdown",
   "id": "ec82d59d-ee96-4b0d-a0ef-e955f81ef8ae",
   "metadata": {},
   "source": [
    "#### Previous coordinates x and y must be entered as well as the sections of columns and beams. The command returns the tags of the columns and beams. The command is called create_elements."
   ]
  },
  {
   "cell_type": "code",
   "execution_count": 6,
   "id": "b5555a2f-b550-4ecc-82ee-5d9ab3062111",
   "metadata": {},
   "outputs": [],
   "source": [
    "tagcols,tagbeams = ut.create_elements(coordx,coordy,col30x30,vig30x40) "
   ]
  },
  {
   "cell_type": "markdown",
   "id": "87f317fe-a14c-4e71-bb29-7afafcef9044",
   "metadata": {},
   "source": [
    "### Loading beams"
   ]
  },
  {
   "cell_type": "markdown",
   "id": "f9187627-c4c6-49da-8dda-3e7b49b60246",
   "metadata": {},
   "source": [
    "#### The function load_beams has as input the floor beam loads, the roof beam loads, and finally the tags of the beams. These must be the ones returned by the create_elements function."
   ]
  },
  {
   "cell_type": "code",
   "execution_count": 7,
   "id": "68b4fcce-f1e8-4583-a0be-9ea88c46464a",
   "metadata": {},
   "outputs": [],
   "source": [
    "ut.load_beams(-30,-20,tagbeams)"
   ]
  },
  {
   "cell_type": "markdown",
   "id": "30210fc0-0f94-4508-b607-cc67ffb05c48",
   "metadata": {},
   "source": [
    "### Gravity analysis and model display"
   ]
  },
  {
   "cell_type": "markdown",
   "id": "b5c71f09-aa9c-4cd0-b595-159040f6ffd1",
   "metadata": {},
   "source": [
    "#### opseestools has a gravedad() function that performs static analyses"
   ]
  },
  {
   "cell_type": "code",
   "execution_count": 8,
   "id": "cd66b571-50ac-4a7c-b1b3-29f7af7b816e",
   "metadata": {},
   "outputs": [
    {
     "ename": "TypeError",
     "evalue": "plot_loads_2d() missing 7 required positional arguments: 'nep', 'fig_wi_he', 'fig_lbrt', 'fmt_model_loads', 'node_supports', 'truss_node_offset', and 'ax'",
     "output_type": "error",
     "traceback": [
      "\u001b[0;31m---------------------------------------------------------------------------\u001b[0m",
      "\u001b[0;31mTypeError\u001b[0m                                 Traceback (most recent call last)",
      "Cell \u001b[0;32mIn[8], line 4\u001b[0m\n\u001b[1;32m      2\u001b[0m loadConst(\u001b[38;5;124m'\u001b[39m\u001b[38;5;124m-time\u001b[39m\u001b[38;5;124m'\u001b[39m,\u001b[38;5;241m0.0\u001b[39m)\n\u001b[1;32m      3\u001b[0m opsv\u001b[38;5;241m.\u001b[39mplot_model()\n\u001b[0;32m----> 4\u001b[0m opsv\u001b[38;5;241m.\u001b[39mplot_loads_2d(sfac\u001b[38;5;241m=\u001b[39m\u001b[38;5;241m0.7\u001b[39m)\n",
      "\u001b[0;31mTypeError\u001b[0m: plot_loads_2d() missing 7 required positional arguments: 'nep', 'fig_wi_he', 'fig_lbrt', 'fmt_model_loads', 'node_supports', 'truss_node_offset', and 'ax'"
     ]
    },
    {
     "data": {
      "image/png": "[encoded data removed]",
      "text/plain": [
       "<Figure size 640x480 with 1 Axes>"
      ]
     },
     "metadata": {},
     "output_type": "display_data"
    }
   ],
   "source": [
    "an.gravedad()\n",
    "loadConst('-time',0.0)\n",
    "opsv.plot_model()\n",
    "opsv.plot_loads_2d(sfac=0.7)"
   ]
  },
  {
   "cell_type": "markdown",
   "id": "cdbfc9fe-1f16-409d-8a53-f3929707710d",
   "metadata": {},
   "source": [
    "### Pushover analysis (see other examples for other types of analyses)"
   ]
  },
  {
   "cell_type": "markdown",
   "id": "043bc6c8-a6f3-48b3-992e-7afac2786b74",
   "metadata": {},
   "source": [
    "#### opseestools has a function named pushover2 which simplifies the pushover process"
   ]
  },
  {
   "cell_type": "code",
   "execution_count": 9,
   "id": "8530f795-17b1-4db4-8995-9282d05d6b74",
   "metadata": {},
   "outputs": [
    {
     "data": {
      "image/png": "[encoded data removed]",
      "text/plain": [
       "<Figure size 640x480 with 1 Axes>"
      ]
     },
     "metadata": {},
     "output_type": "display_data"
    }
   ],
   "source": [
    "timeSeries('Linear', 2)\n",
    "pattern('Plain',2,2)\n",
    "load(1001,1/3,0.0,0.0)\n",
    "load(1002,2/3,0.0,0.0)\n",
    "dtecho,Vbasal = an.pushover2(0.05*coordy[-1],0.001,getNodeTags()[-1],1)"
   ]
  }
 ],
 "metadata": {
  "kernelspec": {
   "display_name": "my_x86",
   "language": "python",
   "name": "python3"
  },
  "language_info": {
   "codemirror_mode": {
    "name": "ipython",
    "version": 3
   },
   "file_extension": ".py",
   "mimetype": "text/x-python",
   "name": "python",
   "nbconvert_exporter": "python",
   "pygments_lexer": "ipython3",
   "version": "3.11.9"
  }
 },
 "nbformat": 4,
 "nbformat_minor": 5
}
